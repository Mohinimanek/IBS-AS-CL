{
 "cells": [
  {
   "cell_type": "code",
   "execution_count": 1,
   "id": "db08da3f-b47c-4d3c-b0a4-aca8302f8dd0",
   "metadata": {},
   "outputs": [
    {
     "name": "stdout",
     "output_type": "stream",
     "text": [
      "Eigenvalues:  [-0.37228132  5.37228132]\n",
      "Eigenvectors:  [[-0.82456484 -0.41597356]\n",
      " [ 0.56576746 -0.90937671]]\n"
     ]
    }
   ],
   "source": [
    "import numpy as np\n",
    "\n",
    "# Define a square matrix\n",
    "A = np.array([[1, 2], [3, 4]])\n",
    "\n",
    "# Calculate the eigenvalues and eigenvectors\n",
    "eigenvalues, eigenvectors = np.linalg.eig(A)\n",
    "\n",
    "print(\"Eigenvalues: \", eigenvalues)\n",
    "print(\"Eigenvectors: \", eigenvectors)\n"
   ]
  },
  {
   "cell_type": "code",
   "execution_count": 2,
   "id": "20e88558-bc5a-49ec-9610-d2cbb8879481",
   "metadata": {},
   "outputs": [
    {
     "name": "stdout",
     "output_type": "stream",
     "text": [
      "<class 'numpy.ndarray'>\n",
      "(3,)\n"
     ]
    }
   ],
   "source": [
    "import numpy as np\n",
    "a = np.array([1,2,3])\n",
    "print (type(a))\n",
    "print (a.shape) \n"
   ]
  },
  {
   "cell_type": "code",
   "execution_count": 3,
   "id": "8b8b6857-ec7c-4893-82d3-e496a9a7eafa",
   "metadata": {},
   "outputs": [
    {
     "name": "stdout",
     "output_type": "stream",
     "text": [
      "[4, 7, 8, 2]\n",
      "<class 'list'>\n"
     ]
    }
   ],
   "source": [
    "b = [4,7,8,2]\n",
    "print (b)\n",
    "print (type(b))\n"
   ]
  },
  {
   "cell_type": "code",
   "execution_count": 4,
   "id": "0b67ade5-ff17-4e84-9bfa-b26d66bebbe1",
   "metadata": {},
   "outputs": [
    {
     "name": "stdout",
     "output_type": "stream",
     "text": [
      "1 2 3\n",
      "[5 2 3]\n"
     ]
    }
   ],
   "source": [
    "print (a[0], a[1], a[2])\n",
    "a[0] = 5\n",
    "print (a)"
   ]
  },
  {
   "cell_type": "code",
   "execution_count": 5,
   "id": "732ab8a0-828d-4ec5-8ecc-4f916ba06dee",
   "metadata": {},
   "outputs": [
    {
     "name": "stdout",
     "output_type": "stream",
     "text": [
      "(2, 3)\n",
      "1 2 4\n"
     ]
    }
   ],
   "source": [
    "b = np.array([[1,2,3],[4,5,6]])\n",
    "print(b.shape)\n",
    "print(b[0,0],b[0,1],b[1,0])\n"
   ]
  },
  {
   "cell_type": "code",
   "execution_count": 6,
   "id": "0b8a8e77-a45c-4083-85a2-84fc23a511fe",
   "metadata": {},
   "outputs": [
    {
     "name": "stdout",
     "output_type": "stream",
     "text": [
      "[[0. 0.]\n",
      " [0. 0.]]\n"
     ]
    }
   ],
   "source": [
    "a = np.zeros((2,2))\n",
    "print (a)\n"
   ]
  },
  {
   "cell_type": "code",
   "execution_count": 7,
   "id": "f63342af-7004-408e-807f-636572ab66c9",
   "metadata": {},
   "outputs": [
    {
     "name": "stdout",
     "output_type": "stream",
     "text": [
      "[[1. 1.]]\n"
     ]
    }
   ],
   "source": [
    "b = np.ones((1,2))\n",
    "print (b)\n"
   ]
  },
  {
   "cell_type": "code",
   "execution_count": 8,
   "id": "cdc0535d-484d-431d-9dd6-164ea3c42a8b",
   "metadata": {},
   "outputs": [
    {
     "name": "stdout",
     "output_type": "stream",
     "text": [
      "[[7 7]\n",
      " [7 7]]\n"
     ]
    }
   ],
   "source": [
    "c = np.full((2,2), 7)\n",
    "print (c)\n"
   ]
  },
  {
   "cell_type": "code",
   "execution_count": 9,
   "id": "1843991c-cdf9-4032-b2ab-0f785687e6f5",
   "metadata": {},
   "outputs": [
    {
     "name": "stdout",
     "output_type": "stream",
     "text": [
      "[[2 2 2 2 2]\n",
      " [2 2 2 2 2]\n",
      " [2 2 2 2 2]]\n"
     ]
    }
   ],
   "source": [
    "c = np.full((3,5), 2)\n",
    "print(c)\n"
   ]
  },
  {
   "cell_type": "code",
   "execution_count": 10,
   "id": "ce4438f5-709d-49f2-b595-594b5af712fa",
   "metadata": {},
   "outputs": [
    {
     "name": "stdout",
     "output_type": "stream",
     "text": [
      "[[1. 0.]\n",
      " [0. 1.]]\n"
     ]
    }
   ],
   "source": [
    "d = np.eye(2)\n",
    "print(d)\n"
   ]
  },
  {
   "cell_type": "code",
   "execution_count": 11,
   "id": "dac950fd-afc3-4c0e-9e57-b576a20dd28a",
   "metadata": {},
   "outputs": [
    {
     "name": "stdout",
     "output_type": "stream",
     "text": [
      "[[0.50297018 0.94132028]\n",
      " [0.45967889 0.2129726 ]]\n"
     ]
    }
   ],
   "source": [
    "e = np.random.random((2,2))\n",
    "print(e)\n"
   ]
  },
  {
   "cell_type": "code",
   "execution_count": 12,
   "id": "393f7a43-ff31-4f84-b198-9ef7ef5befa8",
   "metadata": {},
   "outputs": [
    {
     "data": {
      "text/plain": [
       "(array([2.  , 2.25, 2.5 , 2.75, 3.  ]), 0.25)"
      ]
     },
     "execution_count": 12,
     "metadata": {},
     "output_type": "execute_result"
    }
   ],
   "source": [
    "import numpy as np\n",
    "np.linspace(2.0, 3.0, num=5, retstep=True)\n"
   ]
  },
  {
   "cell_type": "code",
   "execution_count": 13,
   "id": "4ff61a18-87b9-462a-9221-3e50bcb0b308",
   "metadata": {},
   "outputs": [
    {
     "data": {
      "text/plain": [
       "array([2.  , 2.25, 2.5 , 2.75, 3.  ])"
      ]
     },
     "execution_count": 13,
     "metadata": {},
     "output_type": "execute_result"
    }
   ],
   "source": [
    "np.linspace(2.0, 3.0, num=5)\n"
   ]
  },
  {
   "cell_type": "code",
   "execution_count": 14,
   "id": "b0197465-95b7-4263-89e6-a888ca33718b",
   "metadata": {},
   "outputs": [
    {
     "data": {
      "text/plain": [
       "array([2. , 2.2, 2.4, 2.6, 2.8])"
      ]
     },
     "execution_count": 14,
     "metadata": {},
     "output_type": "execute_result"
    }
   ],
   "source": [
    "np.linspace(2.0, 3.0, num=5, endpoint=False)\n"
   ]
  },
  {
   "cell_type": "code",
   "execution_count": 15,
   "id": "6961cf0c-fde1-4de4-ad4c-78b01af031ac",
   "metadata": {},
   "outputs": [
    {
     "name": "stdout",
     "output_type": "stream",
     "text": [
      "[[2 3]\n",
      " [6 7]]\n"
     ]
    }
   ],
   "source": [
    "import numpy as np\n",
    "a = np.array([[1,2,3,4], [5,6,7,8], [9,10,11,12]])\n",
    "b = a[:2, 1:3]\n",
    "print(b)\n"
   ]
  },
  {
   "cell_type": "code",
   "execution_count": 16,
   "id": "ed05fbef-848d-4de1-9cbf-4187e8190809",
   "metadata": {},
   "outputs": [
    {
     "name": "stdout",
     "output_type": "stream",
     "text": [
      "[[2 3]\n",
      " [6 7]]\n",
      "[[ 1  2  3  4]\n",
      " [ 5  6  7  8]\n",
      " [ 9 10 11 12]]\n"
     ]
    }
   ],
   "source": [
    "c = a[:,]\n",
    "d = a[:2,1:3]\n",
    "print(d)\n",
    "print(c)\n"
   ]
  },
  {
   "cell_type": "code",
   "execution_count": 17,
   "id": "29ad1921-7767-4a8e-9bad-6dce5cdb56db",
   "metadata": {},
   "outputs": [
    {
     "name": "stdout",
     "output_type": "stream",
     "text": [
      "[[2]\n",
      " [6]]\n"
     ]
    }
   ],
   "source": [
    "e = a[0:2,1:2]\n",
    "print(e)\n"
   ]
  },
  {
   "cell_type": "code",
   "execution_count": 18,
   "id": "d1153efd-fe1a-4a9a-ba9a-8c7a0fac1919",
   "metadata": {},
   "outputs": [
    {
     "name": "stdout",
     "output_type": "stream",
     "text": [
      "[[ 9 10]]\n"
     ]
    }
   ],
   "source": [
    "f = a[2:3, 0:2]\n",
    "print(f)\n"
   ]
  },
  {
   "cell_type": "code",
   "execution_count": 19,
   "id": "8becd598-d95a-40fc-b200-fb9a579e40fc",
   "metadata": {},
   "outputs": [
    {
     "name": "stdout",
     "output_type": "stream",
     "text": [
      "[[2 3 4]\n",
      " [6 7 8]]\n"
     ]
    }
   ],
   "source": [
    "g = a[:2, 1:]\n",
    "print(g)\n"
   ]
  },
  {
   "cell_type": "code",
   "execution_count": 20,
   "id": "4e702a58-91d4-4c4f-9522-c2b7ca7c15e9",
   "metadata": {},
   "outputs": [
    {
     "name": "stdout",
     "output_type": "stream",
     "text": [
      "[[3]\n",
      " [7]]\n"
     ]
    }
   ],
   "source": [
    "h =a [-3:-1, -2:-1]\n",
    "print(h)"
   ]
  },
  {
   "cell_type": "code",
   "execution_count": 21,
   "id": "1d74ba74-4fb0-4464-a1b0-410e65b12325",
   "metadata": {},
   "outputs": [
    {
     "name": "stdout",
     "output_type": "stream",
     "text": [
      "[]\n"
     ]
    }
   ],
   "source": [
    "i = a[-2:1, 1:2]\n",
    "print(i)\n"
   ]
  },
  {
   "cell_type": "code",
   "execution_count": 22,
   "id": "5e34a469-6bbb-4895-a841-ef74eae812e9",
   "metadata": {},
   "outputs": [
    {
     "name": "stdout",
     "output_type": "stream",
     "text": [
      "[1 4 6]\n",
      "[1 4 5]\n"
     ]
    }
   ],
   "source": [
    "import numpy as np\n",
    "a = np.array([[1,2], [3,4], [5,6]])\n",
    "print (a[[0,1,2], [0,1,1]])\n",
    "print (np.array([a[0,0], a[1,1], a[2,0]]))\n"
   ]
  },
  {
   "cell_type": "code",
   "execution_count": 23,
   "id": "b6782a63-c422-4206-b65c-d9f143e4d429",
   "metadata": {},
   "outputs": [
    {
     "name": "stdout",
     "output_type": "stream",
     "text": [
      "[[ 1  2  3]\n",
      " [ 4  5  6]\n",
      " [ 7  8  9]\n",
      " [10 11 12]]\n"
     ]
    }
   ],
   "source": [
    "import numpy as np\n",
    "a = np.array([[1,2,3], [4,5,6], [7,8,9], [10,11,12]])\n",
    "print(a)\n"
   ]
  },
  {
   "cell_type": "code",
   "execution_count": 24,
   "id": "f43fbff2-9246-412a-8cdc-4e4e714ec89b",
   "metadata": {},
   "outputs": [
    {
     "name": "stdout",
     "output_type": "stream",
     "text": [
      "[[False False]\n",
      " [ True  True]\n",
      " [ True  True]]\n"
     ]
    }
   ],
   "source": [
    "import numpy as np\n",
    "a = np.array([[1,2], [3,4], [5,6]])\n",
    "bool_idx = (a>2)\n",
    "print (bool_idx)\n"
   ]
  },
  {
   "cell_type": "code",
   "execution_count": 25,
   "id": "dd955453-b97f-4401-9e90-8e1d9ced6362",
   "metadata": {},
   "outputs": [
    {
     "ename": "SyntaxError",
     "evalue": "invalid non-printable character U+00A0 (1397618472.py, line 2)",
     "output_type": "error",
     "traceback": [
      "\u001b[1;36m  Cell \u001b[1;32mIn[25], line 2\u001b[1;36m\u001b[0m\n\u001b[1;33m    print (a[a>2])\u001b[0m\n\u001b[1;37m         ^\u001b[0m\n\u001b[1;31mSyntaxError\u001b[0m\u001b[1;31m:\u001b[0m invalid non-printable character U+00A0\n"
     ]
    }
   ],
   "source": [
    "print(a[bool_idx])\n",
    "print (a[a>2])"
   ]
  },
  {
   "cell_type": "code",
   "execution_count": null,
   "id": "c9b3fdec-6708-4e0e-a6cb-fbf3d4d25f9d",
   "metadata": {},
   "outputs": [],
   "source": []
  }
 ],
 "metadata": {
  "kernelspec": {
   "display_name": "Python 3 (ipykernel)",
   "language": "python",
   "name": "python3"
  },
  "language_info": {
   "codemirror_mode": {
    "name": "ipython",
    "version": 3
   },
   "file_extension": ".py",
   "mimetype": "text/x-python",
   "name": "python",
   "nbconvert_exporter": "python",
   "pygments_lexer": "ipython3",
   "version": "3.12.0"
  }
 },
 "nbformat": 4,
 "nbformat_minor": 5
}
